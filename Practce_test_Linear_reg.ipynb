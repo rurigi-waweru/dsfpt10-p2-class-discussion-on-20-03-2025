{
 "cells": [
  {
   "cell_type": "markdown",
   "metadata": {},
   "source": [
    "# Practice Linear Regression model\n",
    "\n",
    "using the Salary dataset (with variables: Years of Experience and Salary) to practice Linear Regression using OLS."
   ]
  },
  {
   "cell_type": "markdown",
   "metadata": {},
   "source": [
    "## Part A: Data Exploration\n",
    "### 1. Load and explore the dataset\n",
    "\n",
    "1.1 How many rows and columns are in the dataset?\n",
    "\n",
    "1.2 Plot a scatter plot of YearsExperience vs. Salary. What kind of relationship do you observe?"
   ]
  },
  {
   "cell_type": "code",
   "execution_count": 1,
   "metadata": {},
   "outputs": [
    {
     "name": "stdout",
     "output_type": "stream",
     "text": [
      "   YearsExperience  Salary\n",
      "0              1.1   39343\n",
      "1              1.3   46205\n",
      "2              1.5   37731\n",
      "3              2.0   43525\n",
      "4              2.2   39891\n",
      "The dataset has a total of 30 rows and 2 columns\n"
     ]
    },
    {
     "data": {
      "image/png": "[encoded data removed]",
      "text/plain": [
       "<Figure size 432x288 with 1 Axes>"
      ]
     },
     "metadata": {
      "needs_background": "light"
     },
     "output_type": "display_data"
    },
    {
     "name": "stdout",
     "output_type": "stream",
     "text": [
      "The scatter plot shows a positive linear relationship between years of experience and salary\n"
     ]
    }
   ],
   "source": [
    "# modules\n",
    "import pandas as pd \n",
    "import numpy as np\n",
    "import matplotlib.pyplot as plt\n",
    "%matplotlib inline\n",
    "# dataset\n",
    "df = pd.read_csv('Salary_Data.csv')\n",
    "print(df.head())\n",
    "# inference\n",
    "print('The dataset has a total of {} rows and {} columns'.format(df.shape[0], df.shape[1]))\n",
    "# scatter plot\n",
    "x = df['YearsExperience']\n",
    "y = df['Salary']\n",
    "# import matplotlib.pyplot as plt\n",
    "plt.scatter(x, y)\n",
    "plt.xlabel('Years of Experience')\n",
    "plt.ylabel('Salary')\n",
    "plt.title('Years of Experience vs Salary')\n",
    "plt.show();\n",
    "# inference\n",
    "print('The scatter plot shows a positive linear relationship between years of experience and salary')"
   ]
  },
  {
   "cell_type": "markdown",
   "metadata": {},
   "source": [
    "## Part B: Simple Linear Regression Using OLS\n",
    "\n",
    "### 2. Create & Fit a Simple Linear Regression model using OLS\n",
    "\n",
    "2.1 Use statsmodels.OLS to predict Salary from YearsExperience.\n",
    "\n",
    "2.2 Print the regression equation in the form:\n",
    "YearsExperiencey^ =β0 +β1 ×YearsExperience"
   ]
  },
  {
   "cell_type": "code",
   "execution_count": null,
   "metadata": {},
   "outputs": [],
   "source": []
  },
  {
   "cell_type": "markdown",
   "metadata": {},
   "source": [
    "### 3. Interpret the coefficients\n",
    "\n",
    "3.1 What does the intercept (𝛽0 ) represent in this context?\n",
    "\n",
    "3.2 What does the slope (𝛽1 ) tell us about the relationship?"
   ]
  },
  {
   "cell_type": "code",
   "execution_count": null,
   "metadata": {},
   "outputs": [],
   "source": []
  },
  {
   "cell_type": "markdown",
   "metadata": {},
   "source": [
    "## Part C: Model Evaluation\n",
    "\n",
    "### 4. Evaluate model performance\n",
    "\n",
    "4.1 What is the R² value? How well does the model explain the variation in salary?\n",
    "\n",
    "4.2 What are the p-values for the intercept and slope? Are they statistically significant at 95% confidence?\n",
    "\n",
    "4.3 Provide the 95% confidence interval for both coefficients.\n",
    "\n",
    "4.4 print the Result Summary"
   ]
  },
  {
   "cell_type": "code",
   "execution_count": null,
   "metadata": {},
   "outputs": [],
   "source": []
  },
  {
   "cell_type": "markdown",
   "metadata": {},
   "source": [
    "## Part D: Prediction\n",
    "\n",
    "### 5. Make predictions\n",
    "\n",
    "5.1 Predict the salary of someone with 5 years of experience.\n",
    "\n",
    "5.2 Provide confidence intervals for your predictions."
   ]
  },
  {
   "cell_type": "code",
   "execution_count": null,
   "metadata": {},
   "outputs": [],
   "source": []
  },
  {
   "cell_type": "markdown",
   "metadata": {},
   "source": [
    "## 6. Manual calculation\n",
    "\n",
    "6.1 Manually compute 𝛽0  and 𝛽1  using the OLS formula:\n",
    "\n",
    "6.2 Compare with the statsmodels output.\n",
    "\n",
    "6.3 Write a function best_fit that takes in the X and y  calculates and prints the coefficient and intercept, and plots the original data points along with the best fit line. Be sure to reuse the functions we have already written"
   ]
  }
 ],
 "metadata": {
  "kernelspec": {
   "display_name": "learn-env",
   "language": "python",
   "name": "python3"
  },
  "language_info": {
   "codemirror_mode": {
    "name": "ipython",
    "version": 3
   },
   "file_extension": ".py",
   "mimetype": "text/x-python",
   "name": "python",
   "nbconvert_exporter": "python",
   "pygments_lexer": "ipython3",
   "version": "3.8.5"
  }
 },
 "nbformat": 4,
 "nbformat_minor": 2
}
